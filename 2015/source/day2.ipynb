{
 "cells": [
  {
   "cell_type": "code",
   "execution_count": 1,
   "metadata": {},
   "outputs": [],
   "source": [
    "import numpy as np"
   ]
  },
  {
   "cell_type": "code",
   "execution_count": 2,
   "metadata": {},
   "outputs": [],
   "source": [
    "filename = '../input/day2.txt'\n",
    "filecontents = open(filename, 'r')\n",
    "data = filecontents.readlines()"
   ]
  },
  {
   "cell_type": "code",
   "execution_count": 3,
   "metadata": {},
   "outputs": [],
   "source": [
    "n_presents = len(data)"
   ]
  },
  {
   "cell_type": "code",
   "execution_count": 4,
   "metadata": {},
   "outputs": [
    {
     "name": "stdout",
     "output_type": "stream",
     "text": [
      "1588178\n",
      "3783758\n"
     ]
    }
   ],
   "source": [
    "paper_sum = 0\n",
    "ribbon_sum = 0\n",
    "for p in range(n_presents):\n",
    "    dimstring = data[p]\n",
    "    a, b, c = sorted([int(n) for n in dimstring.strip().split('x')])\n",
    "    paper_sum += a*b + 2*(a*b+b*c+a*c)\n",
    "    ribbon_sum += 2*(a+b) + a*b*c\n",
    "print(paper_sum)\n",
    "print(ribbon_sum)"
   ]
  },
  {
   "cell_type": "code",
   "execution_count": null,
   "metadata": {},
   "outputs": [],
   "source": []
  }
 ],
 "metadata": {
  "kernelspec": {
   "display_name": "Python 2",
   "language": "python",
   "name": "python2"
  },
  "language_info": {
   "codemirror_mode": {
    "name": "ipython",
    "version": 2
   },
   "file_extension": ".py",
   "mimetype": "text/x-python",
   "name": "python",
   "nbconvert_exporter": "python",
   "pygments_lexer": "ipython2",
   "version": "2.7.14"
  }
 },
 "nbformat": 4,
 "nbformat_minor": 2
}
