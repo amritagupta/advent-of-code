{
 "cells": [
  {
   "cell_type": "code",
   "execution_count": 1,
   "metadata": {},
   "outputs": [],
   "source": [
    "import numpy as np"
   ]
  },
  {
   "cell_type": "code",
   "execution_count": 2,
   "metadata": {},
   "outputs": [],
   "source": [
    "filename = '../input/day1.txt'\n",
    "filecontents = open(filename, 'r')\n",
    "data = filecontents.read().strip() # need to strip the EOF character"
   ]
  },
  {
   "cell_type": "code",
   "execution_count": 3,
   "metadata": {},
   "outputs": [],
   "source": [
    "n_chars = len(data)\n",
    "lparen_ct = np.zeros(n_chars) # stores running count of number of left parentheses encountered in the string\n",
    "rparen_ct = np.zeros(n_chars) # stores running count of number of right parentheses encountered in the string"
   ]
  },
  {
   "cell_type": "code",
   "execution_count": 4,
   "metadata": {},
   "outputs": [],
   "source": [
    "for i in range(n_chars):\n",
    "    if i == 0:\n",
    "        if data[i] == '(':\n",
    "            lparen_ct[i] = 1\n",
    "        elif data[i] == ')':\n",
    "            rparen_ct[i] == 1\n",
    "    else:\n",
    "        if data[i] == '(':\n",
    "            lparen_ct[i] = lparen_ct[i-1]+1\n",
    "            rparen_ct[i] = rparen_ct[i-1]\n",
    "        elif data[i] == ')':\n",
    "            lparen_ct[i] = lparen_ct[i-1]\n",
    "            rparen_ct[i] = rparen_ct[i-1]+1\n"
   ]
  },
  {
   "cell_type": "code",
   "execution_count": 5,
   "metadata": {},
   "outputs": [
    {
     "name": "stdout",
     "output_type": "stream",
     "text": [
      "74.0\n"
     ]
    }
   ],
   "source": [
    "print(lparen_ct[-1]-rparen_ct[-1])"
   ]
  },
  {
   "cell_type": "code",
   "execution_count": 6,
   "metadata": {},
   "outputs": [],
   "source": [
    "floor_no = lparen_ct - rparen_ct"
   ]
  },
  {
   "cell_type": "code",
   "execution_count": 8,
   "metadata": {},
   "outputs": [
    {
     "name": "stdout",
     "output_type": "stream",
     "text": [
      "1795\n"
     ]
    }
   ],
   "source": [
    "print(next(x[0] for x in enumerate(floor_no) if x[1] < 0)+1)"
   ]
  },
  {
   "cell_type": "code",
   "execution_count": null,
   "metadata": {},
   "outputs": [],
   "source": []
  }
 ],
 "metadata": {
  "kernelspec": {
   "display_name": "Python 2",
   "language": "python",
   "name": "python2"
  },
  "language_info": {
   "codemirror_mode": {
    "name": "ipython",
    "version": 2
   },
   "file_extension": ".py",
   "mimetype": "text/x-python",
   "name": "python",
   "nbconvert_exporter": "python",
   "pygments_lexer": "ipython2",
   "version": "2.7.14"
  }
 },
 "nbformat": 4,
 "nbformat_minor": 2
}
