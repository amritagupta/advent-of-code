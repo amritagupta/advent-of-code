{
 "cells": [
  {
   "cell_type": "code",
   "execution_count": 1,
   "metadata": {},
   "outputs": [],
   "source": [
    "import numpy as np"
   ]
  },
  {
   "cell_type": "code",
   "execution_count": 2,
   "metadata": {},
   "outputs": [],
   "source": [
    "filename = '../input/day3.txt'\n",
    "filecontents = open(filename, 'r')\n",
    "data = filecontents.read().strip() # need to strip the EOF character"
   ]
  },
  {
   "cell_type": "code",
   "execution_count": 3,
   "metadata": {},
   "outputs": [],
   "source": [
    "visited_houses = dict()\n",
    "visited_houses[(0,0)] = 1\n",
    "x_santa = 0\n",
    "y_santa = 0\n",
    "n_moves = len(data)"
   ]
  },
  {
   "cell_type": "code",
   "execution_count": 4,
   "metadata": {},
   "outputs": [],
   "source": [
    "for m in range(n_moves):\n",
    "    if data[m] == '^':\n",
    "        y_santa += 1\n",
    "    elif data[m] == 'v':\n",
    "        y_santa -= 1\n",
    "    elif data[m] == '<':\n",
    "        x_santa -= 1\n",
    "    elif data[m] == '>':\n",
    "        x_santa += 1\n",
    "    address = (x_santa,y_santa)\n",
    "    if address in visited_houses.keys():\n",
    "        visited_houses[address] += 1\n",
    "    else:\n",
    "        visited_houses[address] = 1"
   ]
  },
  {
   "cell_type": "code",
   "execution_count": 5,
   "metadata": {},
   "outputs": [
    {
     "name": "stdout",
     "output_type": "stream",
     "text": [
      "2572\n"
     ]
    }
   ],
   "source": [
    "print(len(visited_houses.keys()))"
   ]
  },
  {
   "cell_type": "code",
   "execution_count": 6,
   "metadata": {},
   "outputs": [],
   "source": [
    "visited_houses = dict()\n",
    "visited_houses[(0,0)] = 2\n",
    "x_santa = 0\n",
    "y_santa = 0\n",
    "x_rsanta = 0\n",
    "y_rsanta = 0"
   ]
  },
  {
   "cell_type": "code",
   "execution_count": 7,
   "metadata": {},
   "outputs": [],
   "source": [
    "for m in range(n_moves):\n",
    "    if m%2 == 0: # santa's move\n",
    "        if data[m] == '^':\n",
    "            y_santa += 1\n",
    "        elif data[m] == 'v':\n",
    "            y_santa -= 1\n",
    "        elif data[m] == '<':\n",
    "            x_santa -= 1\n",
    "        elif data[m] == '>':\n",
    "            x_santa += 1\n",
    "        x = x_santa\n",
    "        y = y_santa\n",
    "    else: # robosanta's move\n",
    "        if data[m] == '^':\n",
    "            y_rsanta += 1\n",
    "        elif data[m] == 'v':\n",
    "            y_rsanta -= 1\n",
    "        elif data[m] == '<':\n",
    "            x_rsanta -= 1\n",
    "        elif data[m] == '>':\n",
    "            x_rsanta += 1\n",
    "        x = x_rsanta\n",
    "        y = y_rsanta\n",
    "    address = (x,y)\n",
    "    if address in visited_houses.keys():\n",
    "        visited_houses[address] += 1\n",
    "    else:\n",
    "        visited_houses[address] = 1"
   ]
  },
  {
   "cell_type": "code",
   "execution_count": 8,
   "metadata": {},
   "outputs": [
    {
     "name": "stdout",
     "output_type": "stream",
     "text": [
      "2631\n"
     ]
    }
   ],
   "source": [
    "print(len(visited_houses.keys()))"
   ]
  },
  {
   "cell_type": "code",
   "execution_count": null,
   "metadata": {},
   "outputs": [],
   "source": []
  }
 ],
 "metadata": {
  "kernelspec": {
   "display_name": "Python 2",
   "language": "python",
   "name": "python2"
  },
  "language_info": {
   "codemirror_mode": {
    "name": "ipython",
    "version": 2
   },
   "file_extension": ".py",
   "mimetype": "text/x-python",
   "name": "python",
   "nbconvert_exporter": "python",
   "pygments_lexer": "ipython2",
   "version": "2.7.14"
  }
 },
 "nbformat": 4,
 "nbformat_minor": 2
}
